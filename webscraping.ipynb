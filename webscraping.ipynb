{
 "cells": [
  {
   "cell_type": "code",
   "execution_count": 5,
   "metadata": {},
   "outputs": [
    {
     "name": "stdout",
     "output_type": "stream",
     "text": [
      "                                     Name   Q1 2024   Q4 2023   Q1 2023\n",
      "                   Gross domestic product 28629.153 28269.174 27063.012\n",
      "                                 Business 21960.942 21692.313 20813.738\n",
      "                                  Nonfarm 21789.844 21509.776 20606.096\n",
      "                                     Farm   171.098   182.537   207.642\n",
      "              Households and institutions  3643.553  3593.337  3419.568\n",
      "                               Households  2103.393  2069.247  1958.877\n",
      "Nonprofit institutions serving households  1540.160  1524.090  1460.692\n",
      "                       General government  3024.659  2983.524  2829.706\n",
      "                                  Federal   966.139   955.107   905.530\n",
      "                          State and local  2058.520  2028.417  1924.176\n",
      "                Gross housing value added  2642.560  2601.149  2466.258\n"
     ]
    }
   ],
   "source": [
    "import pandas as pd\n",
    "import requests\n",
    "from bs4 import BeautifulSoup\n",
    "from io import StringIO\n",
    "import logging\n",
    "import numpy as np\n",
    "\n",
    "logging.basicConfig(level=logging.INFO)\n",
    "logger = logging.getLogger(__name__)\n",
    "\n",
    "url = 'https://fred.stlouisfed.org/release/tables?rid=53&eid=13416&od='\n",
    "response = requests.get(url)\n",
    "\n",
    "if response.status_code == 200:\n",
    "    soup = BeautifulSoup(response.content, 'html.parser')\n",
    "    table = soup.find('table')\n",
    "    table_html = str(table)\n",
    "    df = pd.read_html(StringIO(table_html), header=[0, 1])[0]\n",
    "\n",
    "df.columns = ['Line_num', 'Line', 'Name', 'Q1 2024', 'Q4 2023', 'Q1 2023']\n",
    "final_df = df[['Name', 'Q1 2024', 'Q4 2023', 'Q1 2023']]\n",
    "final_df = final_df[final_df['Name'] != 'Addendum:']\n",
    "print(final_df.to_string(index=False))\n",
    "final_df.to_csv('transformed_fred_data.csv', index=False)"
   ]
  }
 ],
 "metadata": {
  "kernelspec": {
   "display_name": "Python 3",
   "language": "python",
   "name": "python3"
  },
  "language_info": {
   "codemirror_mode": {
    "name": "ipython",
    "version": 3
   },
   "file_extension": ".py",
   "mimetype": "text/x-python",
   "name": "python",
   "nbconvert_exporter": "python",
   "pygments_lexer": "ipython3",
   "version": "3.12.5"
  }
 },
 "nbformat": 4,
 "nbformat_minor": 2
}
